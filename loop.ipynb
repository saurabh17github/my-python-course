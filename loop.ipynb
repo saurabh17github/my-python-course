{
 "metadata": {
  "language_info": {
   "codemirror_mode": {
    "name": "ipython",
    "version": 3
   },
   "file_extension": ".py",
   "mimetype": "text/x-python",
   "name": "python",
   "nbconvert_exporter": "python",
   "pygments_lexer": "ipython3",
   "version": "3.9.1-final"
  },
  "orig_nbformat": 2,
  "kernelspec": {
   "name": "python3",
   "display_name": "Python 3.9.1 64-bit",
   "metadata": {
    "interpreter": {
     "hash": "da343b0410c570141bc843dfb9cc30812a026b83b14dc7d568c707edd21c02d5"
    }
   }
  }
 },
 "nbformat": 4,
 "nbformat_minor": 2,
 "cells": [
  {
   "source": [
    "#for loop+++"
   ],
   "cell_type": "markdown",
   "metadata": {}
  },
  {
   "cell_type": "code",
   "execution_count": 4,
   "metadata": {},
   "outputs": [],
   "source": [
    "name = \"sauarbhsingh\""
   ]
  },
  {
   "cell_type": "code",
   "execution_count": 9,
   "metadata": {},
   "outputs": [
    {
     "output_type": "execute_result",
     "data": {
      "text/plain": [
       "12"
      ]
     },
     "metadata": {},
     "execution_count": 9
    }
   ],
   "source": [
    "len (name)"
   ]
  },
  {
   "cell_type": "code",
   "execution_count": 12,
   "metadata": {},
   "outputs": [
    {
     "output_type": "stream",
     "name": "stdout",
     "text": [
      "s\na\nu\na\nr\nb\nh\ns\ni\nn\ng\nh\n"
     ]
    }
   ],
   "source": [
    "for i in name:\n",
    "    print (i)"
   ]
  },
  {
   "cell_type": "code",
   "execution_count": 13,
   "metadata": {},
   "outputs": [
    {
     "output_type": "stream",
     "name": "stdout",
     "text": [
      "4\n16\n5\n25\n6\n36\n7\n49\n"
     ]
    }
   ],
   "source": [
    "x = [4,5,6,7,]\n",
    "for val in x:\n",
    "    print(val)\n",
    "    print(val**2)"
   ]
  },
  {
   "cell_type": "code",
   "execution_count": 19,
   "metadata": {},
   "outputs": [
    {
     "output_type": "stream",
     "name": "stdout",
     "text": [
      "do you like doge?\ndo you like eagle?\ndo you like cow?\ndo you like buffalow?\n"
     ]
    }
   ],
   "source": [
    "animals =['doge','eagle','cow','buffalow']\n",
    "for animal in animals:\n",
    "    print(f'do you like {animal}?')"
   ]
  },
  {
   "cell_type": "code",
   "execution_count": null,
   "metadata": {},
   "outputs": [],
   "source": []
  },
  {
   "source": [
    "#range fuction"
   ],
   "cell_type": "markdown",
   "metadata": {}
  },
  {
   "cell_type": "code",
   "execution_count": 21,
   "metadata": {},
   "outputs": [
    {
     "output_type": "stream",
     "name": "stdout",
     "text": [
      "13 x 0 = 0\n13 x 1 = 13\n13 x 2 = 26\n13 x 3 = 39\n13 x 4 = 52\n13 x 5 = 65\n13 x 6 = 78\n13 x 7 = 91\n13 x 8 = 104\n13 x 9 = 117\n13 x 10 = 130\n13 x 11 = 143\n13 x 12 = 156\n13 x 13 = 169\n13 x 14 = 182\n13 x 15 = 195\n13 x 16 = 208\n13 x 17 = 221\n13 x 18 = 234\n13 x 19 = 247\n13 x 20 = 260\n"
     ]
    }
   ],
   "source": [
    "for i in range(21):\n",
    "    print(f\"13 x {i} = {i*13}\")"
   ]
  },
  {
   "cell_type": "code",
   "execution_count": 23,
   "metadata": {},
   "outputs": [
    {
     "output_type": "stream",
     "name": "stdout",
     "text": [
      "11\n12\n13\n14\n15\n"
     ]
    }
   ],
   "source": [
    "for i in range (11,16):\n",
    "    print(i)"
   ]
  },
  {
   "cell_type": "code",
   "execution_count": 24,
   "metadata": {},
   "outputs": [
    {
     "output_type": "stream",
     "name": "stdout",
     "text": [
      "1\n3\n5\n7\n9\n"
     ]
    }
   ],
   "source": [
    "for i in range (1,10,2):\n",
    "    print(i)"
   ]
  },
  {
   "cell_type": "code",
   "execution_count": 29,
   "metadata": {},
   "outputs": [
    {
     "output_type": "stream",
     "name": "stdout",
     "text": [
      "1\n-1\n-3\n-5\n-7\n-9\n"
     ]
    }
   ],
   "source": [
    "for i in range(1,-10,-):\n",
    "    print(i)"
   ]
  },
  {
   "cell_type": "code",
   "execution_count": 31,
   "metadata": {},
   "outputs": [
    {
     "output_type": "stream",
     "name": "stdout",
     "text": [
      "\nsaurabh\nsaurabhsaurabh\nsaurabhsaurabhsaurabh\nsaurabhsaurabhsaurabhsaurabh\nsaurabhsaurabhsaurabhsaurabhsaurabh\nsaurabhsaurabhsaurabhsaurabhsaurabhsaurabh\nsaurabhsaurabhsaurabhsaurabhsaurabhsaurabhsaurabh\nsaurabhsaurabhsaurabhsaurabhsaurabhsaurabhsaurabhsaurabh\nsaurabhsaurabhsaurabhsaurabhsaurabhsaurabhsaurabhsaurabhsaurabh\nsaurabhsaurabhsaurabhsaurabhsaurabhsaurabhsaurabhsaurabhsaurabhsaurabh\nsaurabhsaurabhsaurabhsaurabhsaurabhsaurabhsaurabhsaurabhsaurabhsaurabhsaurabh\nsaurabhsaurabhsaurabhsaurabhsaurabhsaurabhsaurabhsaurabhsaurabhsaurabhsaurabhsaurabh\nsaurabhsaurabhsaurabhsaurabhsaurabhsaurabhsaurabhsaurabhsaurabhsaurabhsaurabhsaurabhsaurabh\nsaurabhsaurabhsaurabhsaurabhsaurabhsaurabhsaurabhsaurabhsaurabhsaurabhsaurabhsaurabhsaurabhsaurabh\nsaurabhsaurabhsaurabhsaurabhsaurabhsaurabhsaurabhsaurabhsaurabhsaurabhsaurabhsaurabhsaurabhsaurabhsaurabh\nsaurabhsaurabhsaurabhsaurabhsaurabhsaurabhsaurabhsaurabhsaurabhsaurabhsaurabhsaurabhsaurabhsaurabhsaurabhsaurabh\nsaurabhsaurabhsaurabhsaurabhsaurabhsaurabhsaurabhsaurabhsaurabhsaurabhsaurabhsaurabhsaurabhsaurabhsaurabhsaurabhsaurabh\nsaurabhsaurabhsaurabhsaurabhsaurabhsaurabhsaurabhsaurabhsaurabhsaurabhsaurabhsaurabhsaurabhsaurabhsaurabhsaurabhsaurabhsaurabh\nsaurabhsaurabhsaurabhsaurabhsaurabhsaurabhsaurabhsaurabhsaurabhsaurabhsaurabhsaurabhsaurabhsaurabhsaurabhsaurabhsaurabhsaurabhsaurabh\n"
     ]
    }
   ],
   "source": [
    "for i in range(20):\n",
    "    print('saurabh' *i)"
   ]
  },
  {
   "cell_type": "code",
   "execution_count": 34,
   "metadata": {},
   "outputs": [
    {
     "output_type": "execute_result",
     "data": {
      "text/plain": [
       "'hihihi'"
      ]
     },
     "metadata": {},
     "execution_count": 34
    }
   ],
   "source": [
    "\"hi\" * 3"
   ]
  },
  {
   "cell_type": "code",
   "execution_count": 44,
   "metadata": {},
   "outputs": [
    {
     "output_type": "stream",
     "name": "stdout",
     "text": [
      "******************************\n********************\n**********\n"
     ]
    }
   ],
   "source": [
    "for i in range ( 30,0,-10):\n",
    "    print('*'*i)\n"
   ]
  },
  {
   "source": [
    "#break and continue"
   ],
   "cell_type": "markdown",
   "metadata": {}
  },
  {
   "cell_type": "code",
   "execution_count": 50,
   "metadata": {},
   "outputs": [
    {
     "output_type": "stream",
     "name": "stdout",
     "text": [
      "60\n",
      "80\n",
      "the end\n"
     ]
    }
   ],
   "source": [
    "for i in range(5):\n",
    "    val = int(input('enter a number'))\n",
    "    if val > 50:\n",
    "        print(val)\n",
    "    else:\n",
    "        break\n",
    "print('the end')"
   ]
  },
  {
   "cell_type": "code",
   "execution_count": 9,
   "metadata": {},
   "outputs": [
    {
     "output_type": "stream",
     "name": "stdout",
     "text": [
      "odds are not allowed\ntotal values of even number 180\n"
     ]
    }
   ],
   "source": [
    "sum_of_even = 0\n",
    "for i in range (10):\n",
    "    num = int (input('enter an even number'))\n",
    "    if num%2 != 0:\n",
    "        print('odds are not allowed')\n",
    "        break\n",
    "    sum_of_even += num                           #sum of even = sum of even +sum\n",
    "print(\"total values of even number\",sum_of_even)"
   ]
  },
  {
   "cell_type": "code",
   "execution_count": 15,
   "metadata": {},
   "outputs": [
    {
     "output_type": "stream",
     "name": "stdout",
     "text": [
      "rakesh\nramesh\nsaurabh\n"
     ]
    }
   ],
   "source": [
    "data = ['rakesh','','ramesh','','saurabh']               #continue\n",
    "len(data)\n",
    "for name in data:\n",
    "    if name=='':\n",
    "        continue\n",
    "    print(name)"
   ]
  },
  {
   "cell_type": "code",
   "execution_count": 14,
   "metadata": {},
   "outputs": [
    {
     "output_type": "stream",
     "name": "stdout",
     "text": [
      "rakesh\nramesh\nsaurabh\n"
     ]
    }
   ],
   "source": [
    "for name in data:\n",
    "    if name=='':\n",
    "        continue\n",
    "    print(name)"
   ]
  },
  {
   "source": [
    "#while\n",
    "{}\n",
    "statement 1\n",
    "statement 2\n",
    ".....statement3"
   ],
   "cell_type": "markdown",
   "metadata": {}
  },
  {
   "cell_type": "code",
   "execution_count": 17,
   "metadata": {},
   "outputs": [
    {
     "output_type": "stream",
     "name": "stdout",
     "text": [
      "a is 1\na is 4\na is 7\n"
     ]
    }
   ],
   "source": [
    "a = 1\n",
    "while a < 10:\n",
    "    print('a is',a)\n",
    "    a+=3"
   ]
  },
  {
   "cell_type": "code",
   "execution_count": 20,
   "metadata": {},
   "outputs": [
    {
     "output_type": "stream",
     "name": "stdout",
     "text": [
      "saurabh is 7 long\n",
      "europe is 6 long\n",
      "stopping code,,,\n"
     ]
    }
   ],
   "source": [
    "while True:\n",
    "    sentence = input('enter a sentence')\n",
    "    if len(sentence) == 0:\n",
    "        print('stopping code,,,')\n",
    "        break\n",
    "    print(f'{sentence} is {len(sentence)} long')"
   ]
  },
  {
   "source": [
    "#the boring calculator"
   ],
   "cell_type": "markdown",
   "metadata": {}
  },
  {
   "cell_type": "code",
   "execution_count": null,
   "metadata": {},
   "outputs": [],
   "source": [
    "while True:\n",
    "    print('-'*20)\n",
    "    print('the boring cal\\n select option \\n add , sub , div , mul,exit')\n",
    "    ch= input('>>')\n",
    "    if ch== 'add':\n",
    "        print('add oparator')\n",
    "        x= int(input('A:'))\n",
    "        y= int(input('A:'))\n",
    "        print(f'{x} + {y} => {x+y}')\n",
    "    elif ch== 'sub':\n",
    "        print('subract operator')\n",
    "        x= int(input('A:'))\n",
    "        y= int(input('B:'))\n",
    "        print(f'{x} - {y} => {x-y}')\n",
    "    elif ch== 'exit':\n",
    "        print('game over')\n",
    "        break\n",
    "\n"
   ]
  },
  {
   "cell_type": "code",
   "execution_count": null,
   "metadata": {},
   "outputs": [],
   "source": []
  }
 ]
}